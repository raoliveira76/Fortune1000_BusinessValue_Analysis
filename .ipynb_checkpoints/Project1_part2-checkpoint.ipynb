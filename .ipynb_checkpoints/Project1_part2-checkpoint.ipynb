{
 "cells": [
  {
   "cell_type": "markdown",
   "metadata": {},
   "source": [
    "# Project #1 - Regression Analysis and Making Predictions"
   ]
  },
  {
   "cell_type": "markdown",
   "metadata": {},
   "source": [
    "Name: Ronaldo Aparecido de Oliveira                \n",
    "ID: 300305192"
   ]
  },
  {
   "cell_type": "markdown",
   "metadata": {},
   "source": [
    "## Part 1 - Dataset Preparation"
   ]
  },
  {
   "cell_type": "markdown",
   "metadata": {},
   "source": [
    "### Step 1 - Importing and Cleaning the dataset"
   ]
  },
  {
   "cell_type": "code",
   "execution_count": 1,
   "metadata": {},
   "outputs": [],
   "source": [
    "import pandas as pd\n",
    "import numpy as np\n",
    "import os"
   ]
  },
  {
   "cell_type": "code",
   "execution_count": 2,
   "metadata": {},
   "outputs": [
    {
     "data": {
      "text/html": [
       "<div>\n",
       "<style scoped>\n",
       "    .dataframe tbody tr th:only-of-type {\n",
       "        vertical-align: middle;\n",
       "    }\n",
       "\n",
       "    .dataframe tbody tr th {\n",
       "        vertical-align: top;\n",
       "    }\n",
       "\n",
       "    .dataframe thead th {\n",
       "        text-align: right;\n",
       "    }\n",
       "</style>\n",
       "<table border=\"1\" class=\"dataframe\">\n",
       "  <thead>\n",
       "    <tr style=\"text-align: right;\">\n",
       "      <th></th>\n",
       "      <th>Revenue($m)</th>\n",
       "      <th>Profits($m)</th>\n",
       "      <th>Assets($m)</th>\n",
       "      <th>Market Value($m)</th>\n",
       "      <th>Employees</th>\n",
       "      <th>Alexa Rank</th>\n",
       "      <th>Semrush Rank</th>\n",
       "      <th>Organic Keywords</th>\n",
       "      <th>Organic Traffic</th>\n",
       "      <th>Adwords Keywords</th>\n",
       "      <th>Adwords Traffic</th>\n",
       "    </tr>\n",
       "  </thead>\n",
       "  <tbody>\n",
       "    <tr>\n",
       "      <th>0</th>\n",
       "      <td>523964.0</td>\n",
       "      <td>14881</td>\n",
       "      <td>236495.0</td>\n",
       "      <td>321803.3</td>\n",
       "      <td>2200000</td>\n",
       "      <td>126</td>\n",
       "      <td>15.0</td>\n",
       "      <td>29145287.0</td>\n",
       "      <td>190314352.0</td>\n",
       "      <td>37053.0</td>\n",
       "      <td>3949947.0</td>\n",
       "    </tr>\n",
       "    <tr>\n",
       "      <th>1</th>\n",
       "      <td>280522.0</td>\n",
       "      <td>11588</td>\n",
       "      <td>225248.0</td>\n",
       "      <td>970680.1</td>\n",
       "      <td>798000</td>\n",
       "      <td>14</td>\n",
       "      <td>3.0</td>\n",
       "      <td>91384723.0</td>\n",
       "      <td>950416767.0</td>\n",
       "      <td>79995.0</td>\n",
       "      <td>2943519.0</td>\n",
       "    </tr>\n",
       "    <tr>\n",
       "      <th>2</th>\n",
       "      <td>264938.0</td>\n",
       "      <td>14340</td>\n",
       "      <td>362597.0</td>\n",
       "      <td>160696.3</td>\n",
       "      <td>74900</td>\n",
       "      <td>27230</td>\n",
       "      <td>NaN</td>\n",
       "      <td>NaN</td>\n",
       "      <td>NaN</td>\n",
       "      <td>NaN</td>\n",
       "      <td>NaN</td>\n",
       "    </tr>\n",
       "    <tr>\n",
       "      <th>3</th>\n",
       "      <td>260174.0</td>\n",
       "      <td>55256</td>\n",
       "      <td>338516.0</td>\n",
       "      <td>1112640.8</td>\n",
       "      <td>137000</td>\n",
       "      <td>51</td>\n",
       "      <td>20.0</td>\n",
       "      <td>17897033.0</td>\n",
       "      <td>159102793.0</td>\n",
       "      <td>15095.0</td>\n",
       "      <td>3382490.0</td>\n",
       "    </tr>\n",
       "    <tr>\n",
       "      <th>4</th>\n",
       "      <td>256776.0</td>\n",
       "      <td>6634</td>\n",
       "      <td>222449.0</td>\n",
       "      <td>77375.8</td>\n",
       "      <td>290000</td>\n",
       "      <td>31978</td>\n",
       "      <td>NaN</td>\n",
       "      <td>NaN</td>\n",
       "      <td>NaN</td>\n",
       "      <td>NaN</td>\n",
       "      <td>NaN</td>\n",
       "    </tr>\n",
       "  </tbody>\n",
       "</table>\n",
       "</div>"
      ],
      "text/plain": [
       "   Revenue($m) Profits($m)  Assets($m) Market Value($m)  Employees  \\\n",
       "0     523964.0       14881    236495.0         321803.3    2200000   \n",
       "1     280522.0       11588    225248.0         970680.1     798000   \n",
       "2     264938.0       14340    362597.0         160696.3      74900   \n",
       "3     260174.0       55256    338516.0        1112640.8     137000   \n",
       "4     256776.0        6634    222449.0          77375.8     290000   \n",
       "\n",
       "   Alexa Rank  Semrush Rank  Organic Keywords  Organic Traffic  \\\n",
       "0         126          15.0        29145287.0      190314352.0   \n",
       "1          14           3.0        91384723.0      950416767.0   \n",
       "2       27230           NaN               NaN              NaN   \n",
       "3          51          20.0        17897033.0      159102793.0   \n",
       "4       31978           NaN               NaN              NaN   \n",
       "\n",
       "   Adwords Keywords  Adwords Traffic  \n",
       "0           37053.0        3949947.0  \n",
       "1           79995.0        2943519.0  \n",
       "2               NaN              NaN  \n",
       "3           15095.0        3382490.0  \n",
       "4               NaN              NaN  "
      ]
     },
     "execution_count": 2,
     "metadata": {},
     "output_type": "execute_result"
    }
   ],
   "source": [
    "# read the file\n",
    "df = pd.read_csv('df_merged.csv')\n",
    "\n",
    "# delete the unused columns\n",
    "delColumns = ['Unnamed: 0', 'Rank', 'Company', 'Domain', 'Back Links', 'Page Authority', 'Domain Authority', 'Moz Rank', \n",
    "              'Page Views', 'Domain Worth', 'Code Size', 'Text to Code Ratio', 'Opportunity Cost', 'Adwords Budget']\n",
    "df.drop(delColumns, inplace=True, axis=1)\n",
    "\n",
    "df.head()"
   ]
  },
  {
   "cell_type": "code",
   "execution_count": 3,
   "metadata": {},
   "outputs": [
    {
     "data": {
      "text/plain": [
       "(928, 11)"
      ]
     },
     "execution_count": 3,
     "metadata": {},
     "output_type": "execute_result"
    }
   ],
   "source": [
    "df.shape"
   ]
  },
  {
   "cell_type": "code",
   "execution_count": 4,
   "metadata": {},
   "outputs": [
    {
     "data": {
      "text/plain": [
       "Revenue($m)           0\n",
       "Profits($m)           0\n",
       "Assets($m)            0\n",
       "Market Value($m)      0\n",
       "Employees             0\n",
       "Alexa Rank            0\n",
       "Semrush Rank        626\n",
       "Organic Keywords    626\n",
       "Organic Traffic     626\n",
       "Adwords Keywords    626\n",
       "Adwords Traffic     626\n",
       "dtype: int64"
      ]
     },
     "execution_count": 4,
     "metadata": {},
     "output_type": "execute_result"
    }
   ],
   "source": [
    "df.isnull().sum()"
   ]
  },
  {
   "cell_type": "code",
   "execution_count": 5,
   "metadata": {},
   "outputs": [
    {
     "data": {
      "text/plain": [
       "(302, 11)"
      ]
     },
     "execution_count": 5,
     "metadata": {},
     "output_type": "execute_result"
    }
   ],
   "source": [
    "# delete rows with missing values\n",
    "df.dropna(how='any', axis=0, inplace=True)\n",
    "\n",
    "df.shape"
   ]
  },
  {
   "cell_type": "code",
   "execution_count": 6,
   "metadata": {},
   "outputs": [
    {
     "data": {
      "text/plain": [
       "Revenue($m)         0\n",
       "Profits($m)         0\n",
       "Assets($m)          0\n",
       "Market Value($m)    0\n",
       "Employees           0\n",
       "Alexa Rank          0\n",
       "Semrush Rank        0\n",
       "Organic Keywords    0\n",
       "Organic Traffic     0\n",
       "Adwords Keywords    0\n",
       "Adwords Traffic     0\n",
       "dtype: int64"
      ]
     },
     "execution_count": 6,
     "metadata": {},
     "output_type": "execute_result"
    }
   ],
   "source": [
    "df.isnull().sum()"
   ]
  },
  {
   "cell_type": "code",
   "execution_count": 7,
   "metadata": {},
   "outputs": [
    {
     "data": {
      "text/plain": [
       "Revenue($m)         float64\n",
       "Profits($m)          object\n",
       "Assets($m)          float64\n",
       "Market Value($m)     object\n",
       "Employees             int64\n",
       "Alexa Rank            int64\n",
       "Semrush Rank        float64\n",
       "Organic Keywords    float64\n",
       "Organic Traffic     float64\n",
       "Adwords Keywords    float64\n",
       "Adwords Traffic     float64\n",
       "dtype: object"
      ]
     },
     "execution_count": 7,
     "metadata": {},
     "output_type": "execute_result"
    }
   ],
   "source": [
    "df.dtypes"
   ]
  },
  {
   "cell_type": "code",
   "execution_count": 8,
   "metadata": {},
   "outputs": [],
   "source": [
    "# converting the column 'Profits ($m)' from object type to float\n",
    "df['Profits($m)'] = df['Profits($m)'].replace({'-(?!\\d)': np.NaN}, regex=True)\n",
    "df['Profits($m)'] = df['Profits($m)'].astype(float)"
   ]
  },
  {
   "cell_type": "code",
   "execution_count": 9,
   "metadata": {},
   "outputs": [],
   "source": [
    "# converting the column 'Market Value ($m)' from object type to float\n",
    "df['Market Value($m)'] = df['Market Value($m)'].replace({'-(?!\\d)': np.NaN}, regex=True)\n",
    "df['Market Value($m)'] = df['Market Value($m)'].astype(float)"
   ]
  },
  {
   "cell_type": "code",
   "execution_count": 10,
   "metadata": {},
   "outputs": [
    {
     "data": {
      "text/plain": [
       "Revenue($m)         0\n",
       "Profits($m)         1\n",
       "Assets($m)          0\n",
       "Market Value($m)    6\n",
       "Employees           0\n",
       "Alexa Rank          0\n",
       "Semrush Rank        0\n",
       "Organic Keywords    0\n",
       "Organic Traffic     0\n",
       "Adwords Keywords    0\n",
       "Adwords Traffic     0\n",
       "dtype: int64"
      ]
     },
     "execution_count": 10,
     "metadata": {},
     "output_type": "execute_result"
    }
   ],
   "source": [
    "df.isnull().sum()"
   ]
  },
  {
   "cell_type": "code",
   "execution_count": 11,
   "metadata": {},
   "outputs": [
    {
     "data": {
      "text/plain": [
       "(295, 11)"
      ]
     },
     "execution_count": 11,
     "metadata": {},
     "output_type": "execute_result"
    }
   ],
   "source": [
    "df.dropna(how='any', axis=0, inplace=True)\n",
    "df.shape"
   ]
  },
  {
   "cell_type": "code",
   "execution_count": 12,
   "metadata": {},
   "outputs": [],
   "source": [
    "# Compute the 'average rank'\n",
    "df['Average Rank'] = df['Alexa Rank'] + df['Semrush Rank']"
   ]
  },
  {
   "cell_type": "code",
   "execution_count": 13,
   "metadata": {},
   "outputs": [],
   "source": [
    "df_final = df.copy()"
   ]
  },
  {
   "cell_type": "markdown",
   "metadata": {},
   "source": [
    "### Step 2 - Exploring the dataset"
   ]
  },
  {
   "cell_type": "code",
   "execution_count": 14,
   "metadata": {},
   "outputs": [],
   "source": [
    "import seaborn as sns\n",
    "import matplotlib.pyplot as plt\n",
    "%matplotlib inline"
   ]
  },
  {
   "cell_type": "markdown",
   "metadata": {},
   "source": [
    "**Creating a heatmap to show the correlations among the variables**"
   ]
  },
  {
   "cell_type": "code",
   "execution_count": 15,
   "metadata": {},
   "outputs": [
    {
     "data": {
      "image/png": "[encoded data removed]",
      "text/plain": [
       "<Figure size 864x720 with 2 Axes>"
      ]
     },
     "metadata": {
      "needs_background": "light"
     },
     "output_type": "display_data"
    }
   ],
   "source": [
    "plt.figure(figsize=(12,10))\n",
    "sns.heatmap(df_final.corr(), annot=True, cmap='coolwarm')\n",
    "plt.show()"
   ]
  },
  {
   "cell_type": "markdown",
   "metadata": {},
   "source": [
    "**Creating histograms of variables**"
   ]
  },
  {
   "cell_type": "code",
   "execution_count": 16,
   "metadata": {},
   "outputs": [
    {
     "data": {
      "text/plain": [
       "[]"
      ]
     },
     "execution_count": 16,
     "metadata": {},
     "output_type": "execute_result"
    },
    {
     "data": {
      "image/png": "[encoded data removed]",
      "text/plain": [
       "<Figure size 864x1296 with 5 Axes>"
      ]
     },
     "metadata": {
      "needs_background": "light"
     },
     "output_type": "display_data"
    }
   ],
   "source": [
    "plt.figure(figsize=(12, 18))\n",
    "\n",
    "plt.subplot(321)\n",
    "plt.hist(data=df_final, x='Assets($m)', bins=20)\n",
    "plt.title('Histogram - Assets')\n",
    "plt.xlabel('Assets ($m)')\n",
    "plt.ylabel('Frequency')\n",
    "\n",
    "plt.subplot(322)\n",
    "plt.hist(data=df_final, x='Market Value($m)', bins=20)\n",
    "plt.title('Historgram - Market Value')\n",
    "plt.xlabel('Market Value ($m)')\n",
    "plt.ylabel('Frequency')\n",
    "\n",
    "plt.subplot(323)\n",
    "plt.hist(data=df_final, x='Employees', bins=20)\n",
    "plt.title('Histogram - Employees')\n",
    "plt.xlabel('Total Employees')\n",
    "plt.ylabel('Frequency')\n",
    "\n",
    "plt.subplot(324)\n",
    "plt.hist(data=df_final, x='Revenue($m)', bins=20)\n",
    "plt.title('Histogram- Revenue')\n",
    "plt.xlabel('Revenue ($m)')\n",
    "plt.ylabel('Frequency')\n",
    "\n",
    "plt.subplot(325)\n",
    "plt.hist(data=df_final, x='Profits($m)', bins=20)\n",
    "plt.title('Histogram - Profits')\n",
    "plt.xlabel('Profits ($m)')\n",
    "plt.ylabel('Frequency')\n",
    "\n",
    "plt.plot()"
   ]
  },
  {
   "cell_type": "code",
   "execution_count": 17,
   "metadata": {},
   "outputs": [
    {
     "data": {
      "text/plain": [
       "[]"
      ]
     },
     "execution_count": 17,
     "metadata": {},
     "output_type": "execute_result"
    },
    {
     "data": {
      "image/png": "[encoded data removed]",
      "text/plain": [
       "<Figure size 864x864 with 4 Axes>"
      ]
     },
     "metadata": {
      "needs_background": "light"
     },
     "output_type": "display_data"
    }
   ],
   "source": [
    "plt.figure(figsize=(12, 12))\n",
    "\n",
    "plt.subplot(221)\n",
    "plt.hist(data=df_final, x='Organic Keywords', bins=20)\n",
    "plt.title('Histogram - Organic Keywords')\n",
    "plt.xlabel('Organic Keywords')\n",
    "plt.ylabel('Frequency')\n",
    "\n",
    "plt.subplot(222)\n",
    "plt.hist(data=df_final, x='Organic Traffic', bins=20)\n",
    "plt.title('Historgram - Organic Traffic')\n",
    "plt.xlabel('Organic Traffic')\n",
    "plt.ylabel('Frequency')\n",
    "\n",
    "plt.subplot(223)\n",
    "plt.hist(data=df_final, x='Adwords Keywords', bins=20)\n",
    "plt.title('Histogram - Adwords Keywords')\n",
    "plt.xlabel('Adwords Keywords')\n",
    "plt.ylabel('Frequency')\n",
    "\n",
    "plt.subplot(224)\n",
    "plt.hist(data=df_final, x='Adwords Traffic', bins=20)\n",
    "plt.title('Histogram- Adwords Traffic')\n",
    "plt.xlabel('Adwords Traffic')\n",
    "plt.ylabel('Frequency')\n",
    "\n",
    "plt.plot()"
   ]
  },
  {
   "cell_type": "markdown",
   "metadata": {},
   "source": [
    "**Creating scatterplots related to outcome 'Revenue'**"
   ]
  },
  {
   "cell_type": "code",
   "execution_count": 18,
   "metadata": {},
   "outputs": [
    {
     "data": {
      "image/png": "[encoded data removed]",
      "text/plain": [
       "<Figure size 864x864 with 4 Axes>"
      ]
     },
     "metadata": {
      "needs_background": "light"
     },
     "output_type": "display_data"
    }
   ],
   "source": [
    "plt.figure(figsize=(12,12))\n",
    "\n",
    "plt.subplot(221)\n",
    "plt.scatter('Revenue($m)', 'Organic Keywords', data=df_final)\n",
    "plt.title('Revenue vs Organic Keywords')\n",
    "plt.xlabel('Revenue ($m)')\n",
    "plt.ylabel('Organic Keywords')\n",
    "\n",
    "plt.subplot(222)\n",
    "plt.scatter('Revenue($m)', 'Organic Traffic', data=df_final)\n",
    "plt.title('Revenue vs Organic Traffic')\n",
    "plt.xlabel('Revenue ($m)')\n",
    "plt.ylabel('Organic Traffic')\n",
    "\n",
    "plt.subplot(223)\n",
    "plt.scatter('Revenue($m)', 'Adwords Keywords', data=df_final)\n",
    "plt.title('Revenue vs Adwords Keywords')\n",
    "plt.xlabel('Revenue($m)')\n",
    "plt.ylabel('Adwords Keywords')\n",
    "\n",
    "plt.subplot(224)\n",
    "plt.scatter('Revenue($m)', 'Adwords Traffic', data=df_final)\n",
    "plt.title('Revenue vs Adwords Traffic')\n",
    "plt.xlabel('Revenue($m)')\n",
    "plt.ylabel('Adwords Traffic')\n",
    "\n",
    "plt.show()"
   ]
  },
  {
   "cell_type": "markdown",
   "metadata": {},
   "source": [
    "**Creating scatterplots related to outcome 'Profits'**"
   ]
  },
  {
   "cell_type": "code",
   "execution_count": 19,
   "metadata": {},
   "outputs": [
    {
     "data": {
      "image/png": "[encoded data removed]",
      "text/plain": [
       "<Figure size 864x864 with 4 Axes>"
      ]
     },
     "metadata": {
      "needs_background": "light"
     },
     "output_type": "display_data"
    }
   ],
   "source": [
    "plt.figure(figsize=(12,12))\n",
    "\n",
    "plt.subplot(221)\n",
    "plt.scatter('Profits($m)', 'Organic Keywords', data=df_final)\n",
    "plt.title('Profits vs Organic Keywords')\n",
    "plt.xlabel('Profits ($m)')\n",
    "plt.ylabel('Organic Keywords')\n",
    "\n",
    "plt.subplot(222)\n",
    "plt.scatter('Profits($m)', 'Organic Traffic', data=df_final)\n",
    "plt.title('Profits vs Organic Traffic')\n",
    "plt.xlabel('Profits ($m)')\n",
    "plt.ylabel('Organic Traffic')\n",
    "\n",
    "plt.subplot(223)\n",
    "plt.scatter('Profits($m)', 'Adwords Keywords', data=df_final)\n",
    "plt.title('Profits vs Adwords Keywords')\n",
    "plt.xlabel('Profits ($m)')\n",
    "plt.ylabel('Adwords Keywords')\n",
    "\n",
    "plt.subplot(224)\n",
    "plt.scatter('Profits($m)', 'Adwords Traffic', data=df_final)\n",
    "plt.title('Profits vs Adwords Traffic')\n",
    "plt.xlabel('Profits ($m)')\n",
    "plt.ylabel('Adwords Traffic')\n",
    "\n",
    "plt.show()"
   ]
  },
  {
   "cell_type": "markdown",
   "metadata": {},
   "source": [
    "### Step 3 - Transforming the dataset"
   ]
  },
  {
   "cell_type": "code",
   "execution_count": 20,
   "metadata": {},
   "outputs": [],
   "source": [
    "# Normalization using Min-Max\n",
    "df_transformed = df_final.apply(lambda x: (x - min(x)) / (max(x) - min(x)))\n",
    "\n",
    "# these values will be used in back transformation\n",
    "organic_traffic_max = df_final['Organic Traffic'].max()\n",
    "organic_traffic_min = df_final['Organic Traffic'].min()\n",
    "adwords_traffic_max = df_final['Adwords Traffic'].max()\n",
    "adwords_traffic_min = df_final['Adwords Traffic'].min()\n",
    "assets_max = df_final['Assets($m)'].max()\n",
    "assets_min = df_final['Assets($m)'].min()\n",
    "revenue_max = df_final['Revenue($m)'].max()\n",
    "revenue_min = df_final['Revenue($m)'].min()\n",
    "profits_max = df_final['Profits($m)'].max()\n",
    "profits_min = df_final['Profits($m)'].min()"
   ]
  },
  {
   "cell_type": "code",
   "execution_count": 21,
   "metadata": {},
   "outputs": [
    {
     "data": {
      "text/html": [
       "<div>\n",
       "<style scoped>\n",
       "    .dataframe tbody tr th:only-of-type {\n",
       "        vertical-align: middle;\n",
       "    }\n",
       "\n",
       "    .dataframe tbody tr th {\n",
       "        vertical-align: top;\n",
       "    }\n",
       "\n",
       "    .dataframe thead th {\n",
       "        text-align: right;\n",
       "    }\n",
       "</style>\n",
       "<table border=\"1\" class=\"dataframe\">\n",
       "  <thead>\n",
       "    <tr style=\"text-align: right;\">\n",
       "      <th></th>\n",
       "      <th>Revenue($m)</th>\n",
       "      <th>Profits($m)</th>\n",
       "      <th>Assets($m)</th>\n",
       "      <th>Market Value($m)</th>\n",
       "      <th>Employees</th>\n",
       "      <th>Alexa Rank</th>\n",
       "      <th>Semrush Rank</th>\n",
       "      <th>Organic Keywords</th>\n",
       "      <th>Organic Traffic</th>\n",
       "      <th>Adwords Keywords</th>\n",
       "      <th>Adwords Traffic</th>\n",
       "      <th>Average Rank</th>\n",
       "    </tr>\n",
       "  </thead>\n",
       "  <tbody>\n",
       "    <tr>\n",
       "      <th>0</th>\n",
       "      <td>1.000000</td>\n",
       "      <td>0.366786</td>\n",
       "      <td>0.067265</td>\n",
       "      <td>0.268269</td>\n",
       "      <td>1.000000</td>\n",
       "      <td>1.250000e-06</td>\n",
       "      <td>0.000004</td>\n",
       "      <td>0.061631</td>\n",
       "      <td>0.200243</td>\n",
       "      <td>0.074426</td>\n",
       "      <td>0.514793</td>\n",
       "      <td>1.350984e-06</td>\n",
       "    </tr>\n",
       "    <tr>\n",
       "      <th>1</th>\n",
       "      <td>0.533605</td>\n",
       "      <td>0.315141</td>\n",
       "      <td>0.064054</td>\n",
       "      <td>0.809203</td>\n",
       "      <td>0.362712</td>\n",
       "      <td>1.300000e-07</td>\n",
       "      <td>0.000000</td>\n",
       "      <td>0.193244</td>\n",
       "      <td>1.000000</td>\n",
       "      <td>0.160682</td>\n",
       "      <td>0.383626</td>\n",
       "      <td>1.192045e-07</td>\n",
       "    </tr>\n",
       "    <tr>\n",
       "      <th>3</th>\n",
       "      <td>0.494621</td>\n",
       "      <td>1.000000</td>\n",
       "      <td>0.096394</td>\n",
       "      <td>0.927549</td>\n",
       "      <td>0.062251</td>\n",
       "      <td>5.000000e-07</td>\n",
       "      <td>0.000006</td>\n",
       "      <td>0.037845</td>\n",
       "      <td>0.167403</td>\n",
       "      <td>0.030321</td>\n",
       "      <td>0.440837</td>\n",
       "      <td>6.556247e-07</td>\n",
       "    </tr>\n",
       "    <tr>\n",
       "      <th>6</th>\n",
       "      <td>0.460100</td>\n",
       "      <td>0.350444</td>\n",
       "      <td>0.049390</td>\n",
       "      <td>0.197202</td>\n",
       "      <td>0.147708</td>\n",
       "      <td>2.557900e-04</td>\n",
       "      <td>0.003614</td>\n",
       "      <td>0.000034</td>\n",
       "      <td>0.000141</td>\n",
       "      <td>0.000347</td>\n",
       "      <td>0.000378</td>\n",
       "      <td>3.632558e-04</td>\n",
       "    </tr>\n",
       "    <tr>\n",
       "      <th>7</th>\n",
       "      <td>0.406771</td>\n",
       "      <td>0.133936</td>\n",
       "      <td>0.016779</td>\n",
       "      <td>0.018209</td>\n",
       "      <td>0.031796</td>\n",
       "      <td>1.996400e-04</td>\n",
       "      <td>0.002004</td>\n",
       "      <td>0.000566</td>\n",
       "      <td>0.000468</td>\n",
       "      <td>0.000155</td>\n",
       "      <td>0.000031</td>\n",
       "      <td>2.588426e-04</td>\n",
       "    </tr>\n",
       "  </tbody>\n",
       "</table>\n",
       "</div>"
      ],
      "text/plain": [
       "   Revenue($m)  Profits($m)  Assets($m)  Market Value($m)  Employees  \\\n",
       "0     1.000000     0.366786    0.067265          0.268269   1.000000   \n",
       "1     0.533605     0.315141    0.064054          0.809203   0.362712   \n",
       "3     0.494621     1.000000    0.096394          0.927549   0.062251   \n",
       "6     0.460100     0.350444    0.049390          0.197202   0.147708   \n",
       "7     0.406771     0.133936    0.016779          0.018209   0.031796   \n",
       "\n",
       "     Alexa Rank  Semrush Rank  Organic Keywords  Organic Traffic  \\\n",
       "0  1.250000e-06      0.000004          0.061631         0.200243   \n",
       "1  1.300000e-07      0.000000          0.193244         1.000000   \n",
       "3  5.000000e-07      0.000006          0.037845         0.167403   \n",
       "6  2.557900e-04      0.003614          0.000034         0.000141   \n",
       "7  1.996400e-04      0.002004          0.000566         0.000468   \n",
       "\n",
       "   Adwords Keywords  Adwords Traffic  Average Rank  \n",
       "0          0.074426         0.514793  1.350984e-06  \n",
       "1          0.160682         0.383626  1.192045e-07  \n",
       "3          0.030321         0.440837  6.556247e-07  \n",
       "6          0.000347         0.000378  3.632558e-04  \n",
       "7          0.000155         0.000031  2.588426e-04  "
      ]
     },
     "execution_count": 21,
     "metadata": {},
     "output_type": "execute_result"
    }
   ],
   "source": [
    "df_transformed.head()"
   ]
  },
  {
   "cell_type": "code",
   "execution_count": 22,
   "metadata": {},
   "outputs": [
    {
     "data": {
      "text/html": [
       "<div>\n",
       "<style scoped>\n",
       "    .dataframe tbody tr th:only-of-type {\n",
       "        vertical-align: middle;\n",
       "    }\n",
       "\n",
       "    .dataframe tbody tr th {\n",
       "        vertical-align: top;\n",
       "    }\n",
       "\n",
       "    .dataframe thead th {\n",
       "        text-align: right;\n",
       "    }\n",
       "</style>\n",
       "<table border=\"1\" class=\"dataframe\">\n",
       "  <thead>\n",
       "    <tr style=\"text-align: right;\">\n",
       "      <th></th>\n",
       "      <th>Revenue($m)</th>\n",
       "      <th>Profits($m)</th>\n",
       "      <th>Assets($m)</th>\n",
       "      <th>Market Value($m)</th>\n",
       "      <th>Employees</th>\n",
       "      <th>Alexa Rank</th>\n",
       "      <th>Semrush Rank</th>\n",
       "      <th>Organic Keywords</th>\n",
       "      <th>Organic Traffic</th>\n",
       "      <th>Adwords Keywords</th>\n",
       "      <th>Adwords Traffic</th>\n",
       "      <th>Average Rank</th>\n",
       "    </tr>\n",
       "  </thead>\n",
       "  <tbody>\n",
       "    <tr>\n",
       "      <th>count</th>\n",
       "      <td>295.000000</td>\n",
       "      <td>295.000000</td>\n",
       "      <td>295.000000</td>\n",
       "      <td>295.000000</td>\n",
       "      <td>295.000000</td>\n",
       "      <td>295.000000</td>\n",
       "      <td>295.000000</td>\n",
       "      <td>295.000000</td>\n",
       "      <td>295.000000</td>\n",
       "      <td>295.000000</td>\n",
       "      <td>295.000000</td>\n",
       "      <td>295.000000</td>\n",
       "    </tr>\n",
       "    <tr>\n",
       "      <th>mean</th>\n",
       "      <td>0.036805</td>\n",
       "      <td>0.160323</td>\n",
       "      <td>0.015688</td>\n",
       "      <td>0.030959</td>\n",
       "      <td>0.019414</td>\n",
       "      <td>0.007959</td>\n",
       "      <td>0.035021</td>\n",
       "      <td>0.006361</td>\n",
       "      <td>0.012585</td>\n",
       "      <td>0.011057</td>\n",
       "      <td>0.029956</td>\n",
       "      <td>0.008964</td>\n",
       "    </tr>\n",
       "    <tr>\n",
       "      <th>std</th>\n",
       "      <td>0.095190</td>\n",
       "      <td>0.085076</td>\n",
       "      <td>0.073341</td>\n",
       "      <td>0.106093</td>\n",
       "      <td>0.066673</td>\n",
       "      <td>0.058444</td>\n",
       "      <td>0.091623</td>\n",
       "      <td>0.060853</td>\n",
       "      <td>0.079627</td>\n",
       "      <td>0.063446</td>\n",
       "      <td>0.112425</td>\n",
       "      <td>0.058627</td>\n",
       "    </tr>\n",
       "    <tr>\n",
       "      <th>min</th>\n",
       "      <td>0.000000</td>\n",
       "      <td>0.000000</td>\n",
       "      <td>0.000000</td>\n",
       "      <td>0.000000</td>\n",
       "      <td>0.000000</td>\n",
       "      <td>0.000000</td>\n",
       "      <td>0.000000</td>\n",
       "      <td>0.000000</td>\n",
       "      <td>0.000000</td>\n",
       "      <td>0.000000</td>\n",
       "      <td>0.000000</td>\n",
       "      <td>0.000000</td>\n",
       "    </tr>\n",
       "    <tr>\n",
       "      <th>25%</th>\n",
       "      <td>0.002011</td>\n",
       "      <td>0.135378</td>\n",
       "      <td>0.000972</td>\n",
       "      <td>0.001887</td>\n",
       "      <td>0.002679</td>\n",
       "      <td>0.000200</td>\n",
       "      <td>0.001462</td>\n",
       "      <td>0.000006</td>\n",
       "      <td>0.000011</td>\n",
       "      <td>0.000000</td>\n",
       "      <td>0.000000</td>\n",
       "      <td>0.000256</td>\n",
       "    </tr>\n",
       "    <tr>\n",
       "      <th>50%</th>\n",
       "      <td>0.007054</td>\n",
       "      <td>0.139652</td>\n",
       "      <td>0.002447</td>\n",
       "      <td>0.006322</td>\n",
       "      <td>0.005308</td>\n",
       "      <td>0.001510</td>\n",
       "      <td>0.011658</td>\n",
       "      <td>0.000028</td>\n",
       "      <td>0.000048</td>\n",
       "      <td>0.000000</td>\n",
       "      <td>0.000000</td>\n",
       "      <td>0.001929</td>\n",
       "    </tr>\n",
       "    <tr>\n",
       "      <th>75%</th>\n",
       "      <td>0.023440</td>\n",
       "      <td>0.152443</td>\n",
       "      <td>0.008170</td>\n",
       "      <td>0.017299</td>\n",
       "      <td>0.013159</td>\n",
       "      <td>0.005624</td>\n",
       "      <td>0.037863</td>\n",
       "      <td>0.000235</td>\n",
       "      <td>0.000470</td>\n",
       "      <td>0.000995</td>\n",
       "      <td>0.001125</td>\n",
       "      <td>0.006675</td>\n",
       "    </tr>\n",
       "    <tr>\n",
       "      <th>max</th>\n",
       "      <td>1.000000</td>\n",
       "      <td>1.000000</td>\n",
       "      <td>1.000000</td>\n",
       "      <td>1.000000</td>\n",
       "      <td>1.000000</td>\n",
       "      <td>1.000000</td>\n",
       "      <td>1.000000</td>\n",
       "      <td>1.000000</td>\n",
       "      <td>1.000000</td>\n",
       "      <td>1.000000</td>\n",
       "      <td>1.000000</td>\n",
       "      <td>1.000000</td>\n",
       "    </tr>\n",
       "  </tbody>\n",
       "</table>\n",
       "</div>"
      ],
      "text/plain": [
       "       Revenue($m)  Profits($m)  Assets($m)  Market Value($m)   Employees  \\\n",
       "count   295.000000   295.000000  295.000000        295.000000  295.000000   \n",
       "mean      0.036805     0.160323    0.015688          0.030959    0.019414   \n",
       "std       0.095190     0.085076    0.073341          0.106093    0.066673   \n",
       "min       0.000000     0.000000    0.000000          0.000000    0.000000   \n",
       "25%       0.002011     0.135378    0.000972          0.001887    0.002679   \n",
       "50%       0.007054     0.139652    0.002447          0.006322    0.005308   \n",
       "75%       0.023440     0.152443    0.008170          0.017299    0.013159   \n",
       "max       1.000000     1.000000    1.000000          1.000000    1.000000   \n",
       "\n",
       "       Alexa Rank  Semrush Rank  Organic Keywords  Organic Traffic  \\\n",
       "count  295.000000    295.000000        295.000000       295.000000   \n",
       "mean     0.007959      0.035021          0.006361         0.012585   \n",
       "std      0.058444      0.091623          0.060853         0.079627   \n",
       "min      0.000000      0.000000          0.000000         0.000000   \n",
       "25%      0.000200      0.001462          0.000006         0.000011   \n",
       "50%      0.001510      0.011658          0.000028         0.000048   \n",
       "75%      0.005624      0.037863          0.000235         0.000470   \n",
       "max      1.000000      1.000000          1.000000         1.000000   \n",
       "\n",
       "       Adwords Keywords  Adwords Traffic  Average Rank  \n",
       "count        295.000000       295.000000    295.000000  \n",
       "mean           0.011057         0.029956      0.008964  \n",
       "std            0.063446         0.112425      0.058627  \n",
       "min            0.000000         0.000000      0.000000  \n",
       "25%            0.000000         0.000000      0.000256  \n",
       "50%            0.000000         0.000000      0.001929  \n",
       "75%            0.000995         0.001125      0.006675  \n",
       "max            1.000000         1.000000      1.000000  "
      ]
     },
     "execution_count": 22,
     "metadata": {},
     "output_type": "execute_result"
    }
   ],
   "source": [
    "df_transformed.describe()"
   ]
  },
  {
   "cell_type": "markdown",
   "metadata": {},
   "source": [
    "## Part 2 - Creating the Regression Models and Making the Predictions"
   ]
  },
  {
   "cell_type": "markdown",
   "metadata": {},
   "source": [
    "**Why did we select just 'Assets', 'Organic Traffic' and 'Adwords Traffic' variables to create the models?**\n",
    "<br/><br/> **Answer:** These variables were selected because the purpose of the study is to verify the efficiency of companies spending thousands of dollars on paid research. In other words, we want to evaluate the return level in terms of *revenue* and *profit* from the two search advertising strategies, organic search and paid search or adwords keywords, combined with the company's total assets. Thus, the variables 'organic traffic' were used to represent organic research, 'adwords traffic' for paid research and 'assets' for the company's assets."
   ]
  },
  {
   "cell_type": "code",
   "execution_count": 23,
   "metadata": {},
   "outputs": [],
   "source": [
    "# Values used to predict Revenue and Profit\n",
    "X_predict = [[0.15, 0.21, 0.25]]\n",
    "\n",
    "# Calculating the Actual Values\n",
    "organic_traffic_actual = X_predict[0][0] * (organic_traffic_max - organic_traffic_min) + organic_traffic_min\n",
    "adwords_traffic_actual = X_predict[0][1] * (adwords_traffic_max - adwords_traffic_min) + adwords_traffic_min\n",
    "assets_actual = X_predict[0][2] * (assets_max - assets_min) + assets_min"
   ]
  },
  {
   "cell_type": "markdown",
   "metadata": {},
   "source": [
    "### Step 1 - Analysis considering the outcome 'Revenue'"
   ]
  },
  {
   "cell_type": "markdown",
   "metadata": {},
   "source": [
    "**Selecting the dataset to define the models**"
   ]
  },
  {
   "cell_type": "code",
   "execution_count": 24,
   "metadata": {},
   "outputs": [],
   "source": [
    "colsToModel = ['Organic Traffic', 'Adwords Traffic', 'Assets($m)']\n",
    "\n",
    "X = df_transformed[colsToModel]\n",
    "y = df_transformed['Revenue($m)']"
   ]
  },
  {
   "cell_type": "code",
   "execution_count": 25,
   "metadata": {},
   "outputs": [
    {
     "name": "stdout",
     "output_type": "stream",
     "text": [
      "Shape X: (295, 3)\n",
      "Shape y: (295,)\n"
     ]
    }
   ],
   "source": [
    "print('Shape X:', X.shape)\n",
    "print('Shape y:', y.shape)"
   ]
  },
  {
   "cell_type": "code",
   "execution_count": 26,
   "metadata": {},
   "outputs": [
    {
     "name": "stdout",
     "output_type": "stream",
     "text": [
      "X_train:  (177, 3) \n",
      "X_test:  (118, 3) \n",
      "y_train:  (177,) \n",
      "y_test:  (118,)\n"
     ]
    }
   ],
   "source": [
    "# defining the Training and Testing Datasets\n",
    "from sklearn.model_selection import train_test_split\n",
    "\n",
    "X_train, X_test, y_train, y_test = train_test_split(X, y, test_size=0.4, random_state=0)\n",
    "\n",
    "print('X_train: ', X_train.shape, '\\nX_test: ', X_test.shape, '\\ny_train: ', y_train.shape, '\\ny_test: ', y_test.shape)"
   ]
  },
  {
   "cell_type": "markdown",
   "metadata": {},
   "source": [
    "**Creating the models from the dataset**"
   ]
  },
  {
   "cell_type": "markdown",
   "metadata": {},
   "source": [
    "*Defining the Ordinary Least Squares (OLS) model*"
   ]
  },
  {
   "cell_type": "code",
   "execution_count": 27,
   "metadata": {},
   "outputs": [
    {
     "name": "stdout",
     "output_type": "stream",
     "text": [
      "                            OLS Regression Results                            \n",
      "==============================================================================\n",
      "Dep. Variable:            Revenue($m)   R-squared:                       0.380\n",
      "Model:                            OLS   Adj. R-squared:                  0.369\n",
      "Method:                 Least Squares   F-statistic:                     35.29\n",
      "Date:                Sun, 14 Jun 2020   Prob (F-statistic):           7.59e-18\n",
      "Time:                        16:28:42   Log-Likelihood:                 179.85\n",
      "No. Observations:                 177   AIC:                            -351.7\n",
      "Df Residuals:                     173   BIC:                            -339.0\n",
      "Df Model:                           3                                         \n",
      "Covariance Type:            nonrobust                                         \n",
      "===================================================================================\n",
      "                      coef    std err          t      P>|t|      [0.025      0.975]\n",
      "-----------------------------------------------------------------------------------\n",
      "const               0.0219      0.007      3.129      0.002       0.008       0.036\n",
      "Organic Traffic     0.3613      0.089      4.059      0.000       0.186       0.537\n",
      "Adwords Traffic     0.3874      0.086      4.526      0.000       0.218       0.556\n",
      "Assets($m)          0.2971      0.086      3.444      0.001       0.127       0.467\n",
      "==============================================================================\n",
      "Omnibus:                      187.251   Durbin-Watson:                   2.087\n",
      "Prob(Omnibus):                  0.000   Jarque-Bera (JB):             5319.410\n",
      "Skew:                           4.012   Prob(JB):                         0.00\n",
      "Kurtosis:                      28.630   Cond. No.                         16.5\n",
      "==============================================================================\n",
      "\n",
      "Warnings:\n",
      "[1] Standard Errors assume that the covariance matrix of the errors is correctly specified.\n"
     ]
    },
    {
     "name": "stderr",
     "output_type": "stream",
     "text": [
      "C:\\ProgramData\\Anaconda3\\lib\\site-packages\\numpy\\core\\fromnumeric.py:2389: FutureWarning: Method .ptp is deprecated and will be removed in a future version. Use numpy.ptp instead.\n",
      "  return ptp(axis=axis, out=out, **kwargs)\n"
     ]
    }
   ],
   "source": [
    "# Ordinary Least Squares\n",
    "import statsmodels.api as sm\n",
    "\n",
    "X_train_ols = sm.add_constant(X_train)\n",
    "ols = sm.OLS(y_train, X_train_ols)\n",
    "ols_model = ols.fit()\n",
    "\n",
    "print(ols_model.summary())"
   ]
  },
  {
   "cell_type": "markdown",
   "metadata": {},
   "source": [
    "*Defining the Linear Regression model*"
   ]
  },
  {
   "cell_type": "code",
   "execution_count": 28,
   "metadata": {},
   "outputs": [
    {
     "name": "stdout",
     "output_type": "stream",
     "text": [
      "RMSE:  0.06815613891248742\n"
     ]
    }
   ],
   "source": [
    "# Linear Regression\n",
    "from sklearn.linear_model import LinearRegression\n",
    "from sklearn import metrics\n",
    "\n",
    "lr_model = LinearRegression()\n",
    "lr_model.fit(X_train, y_train)\n",
    "lr_pred = lr_model.predict(X_test)\n",
    "\n",
    "print(\"RMSE: \", np.sqrt(metrics.mean_squared_error(y_test, lr_pred)))"
   ]
  },
  {
   "cell_type": "markdown",
   "metadata": {},
   "source": [
    "*Defining the Ridge Regression model*"
   ]
  },
  {
   "cell_type": "code",
   "execution_count": 29,
   "metadata": {},
   "outputs": [
    {
     "name": "stdout",
     "output_type": "stream",
     "text": [
      "Best alpha:  1.0\n"
     ]
    }
   ],
   "source": [
    "# Ridge Regression\n",
    "from sklearn import linear_model\n",
    "\n",
    "alphas = [1e-8, 1e-6, 1e-4, 0.01, 0.1, 0.1, 1, 5, 10, 25, 50, 100, 1000, 1e4]\n",
    "\n",
    "ridge_prelim = linear_model.RidgeCV(alphas=alphas, store_cv_values=True)\n",
    "ridge_prelim = ridge_prelim.fit(X_train, y_train)\n",
    "\n",
    "print('Best alpha: ', ridge_prelim.alpha_)"
   ]
  },
  {
   "cell_type": "code",
   "execution_count": 30,
   "metadata": {},
   "outputs": [
    {
     "name": "stdout",
     "output_type": "stream",
     "text": [
      "RMSE:  0.0604903056519413\n"
     ]
    }
   ],
   "source": [
    "ridge_model = linear_model.Ridge(alpha=ridge_prelim.alpha_)\n",
    "ridge_model = ridge_model.fit(X_train, y_train)\n",
    "ridge_pred = ridge_model.predict(X_test)\n",
    "\n",
    "print('RMSE: ', np.sqrt(metrics.mean_squared_error(y_test, ridge_pred)))"
   ]
  },
  {
   "cell_type": "markdown",
   "metadata": {},
   "source": [
    "*Defining the Lasso Regression model*"
   ]
  },
  {
   "cell_type": "code",
   "execution_count": 31,
   "metadata": {},
   "outputs": [
    {
     "name": "stdout",
     "output_type": "stream",
     "text": [
      "Best alpha:  {'alpha': 0.01}\n"
     ]
    },
    {
     "name": "stderr",
     "output_type": "stream",
     "text": [
      "C:\\ProgramData\\Anaconda3\\lib\\site-packages\\sklearn\\model_selection\\_search.py:841: DeprecationWarning: The default of the `iid` parameter will change from True to False in version 0.22 and will be removed in 0.24. This will change numeric results when test-set sizes are unequal.\n",
      "  DeprecationWarning)\n"
     ]
    }
   ],
   "source": [
    "# Lasso Regression\n",
    "from sklearn.model_selection import GridSearchCV\n",
    "from sklearn.linear_model import Lasso\n",
    "\n",
    "lasso_prelim = Lasso()\n",
    "\n",
    "parameters = {'alpha': [1e-8, 1e-6, 1e-4, 0.01, 0.1, 0.1, 1, 5, 10, 25, 50, 100, 1000, 1e4]}\n",
    "\n",
    "lasso_prelim = GridSearchCV(lasso_prelim, parameters, scoring='neg_mean_squared_error', cv=5)\n",
    "lasso_prelim = lasso_prelim.fit(X_train, y_train)\n",
    "\n",
    "print('Best alpha: ', lasso_prelim.best_params_)"
   ]
  },
  {
   "cell_type": "code",
   "execution_count": 32,
   "metadata": {},
   "outputs": [
    {
     "name": "stdout",
     "output_type": "stream",
     "text": [
      "RMSE:  0.06386620822998233\n"
     ]
    }
   ],
   "source": [
    "lasso_model = Lasso(alpha=lasso_prelim.best_params_.get('alpha'))\n",
    "lasso_model.fit(X_train, y_train)\n",
    "lasso_pred = lasso_model.predict(X_test)\n",
    "\n",
    "print('RMSE: ', np.sqrt(metrics.mean_squared_error(y_test, lasso_pred)))"
   ]
  },
  {
   "cell_type": "markdown",
   "metadata": {},
   "source": [
    "### Step 2 - Making Predictions to 'Revenue'"
   ]
  },
  {
   "cell_type": "code",
   "execution_count": 33,
   "metadata": {},
   "outputs": [
    {
     "name": "stdout",
     "output_type": "stream",
     "text": [
      "[0.23172794497434865, 0.16673828765221801, 0.04152799712039917]\n"
     ]
    }
   ],
   "source": [
    "y_pred_lr = lr_model.predict(X_predict)\n",
    "y_pred_ridge = ridge_model.predict(X_predict)\n",
    "y_pred_lasso = lasso_model.predict(X_predict)\n",
    "\n",
    "revenue_y_pred = [#y_pred_ols, \n",
    "    y_pred_lr[0], y_pred_ridge[0], y_pred_lasso[0]]\n",
    "\n",
    "print(revenue_y_pred)"
   ]
  },
  {
   "cell_type": "code",
   "execution_count": 34,
   "metadata": {},
   "outputs": [
    {
     "name": "stdout",
     "output_type": "stream",
     "text": [
      "[122952.87679853589, 89030.55031438997, 23675.16101694915]\n"
     ]
    }
   ],
   "source": [
    "# Determining the Actual Revenues\n",
    "revenue_actual_lr = y_pred_lr[0] * (revenue_max - revenue_min) + revenue_min\n",
    "revenue_actual_ridge = y_pred_ridge[0] * (revenue_max - revenue_min) + revenue_min\n",
    "revenue_actual_lasso = y_pred_lasso[0] * (revenue_max - revenue_min) + revenue_min\n",
    "\n",
    "revenue_pred = [#revenue_actual_ols, \n",
    "    revenue_actual_lr, revenue_actual_ridge, revenue_actual_lasso]\n",
    "\n",
    "print(revenue_pred)"
   ]
  },
  {
   "cell_type": "markdown",
   "metadata": {},
   "source": [
    "### Step 3 - Analysis considering the outcome 'Profits'"
   ]
  },
  {
   "cell_type": "markdown",
   "metadata": {},
   "source": [
    "**Selecting the dataset to define the models**"
   ]
  },
  {
   "cell_type": "code",
   "execution_count": 35,
   "metadata": {},
   "outputs": [],
   "source": [
    "colsToModel = ['Organic Traffic', 'Adwords Traffic', 'Assets($m)']\n",
    "\n",
    "X = df_transformed[colsToModel]\n",
    "y = df_transformed['Profits($m)']"
   ]
  },
  {
   "cell_type": "code",
   "execution_count": 36,
   "metadata": {},
   "outputs": [
    {
     "name": "stdout",
     "output_type": "stream",
     "text": [
      "Shape X: (295, 3)\n",
      "Shape y: (295,)\n"
     ]
    }
   ],
   "source": [
    "print('Shape X:', X.shape)\n",
    "print('Shape y:', y.shape)"
   ]
  },
  {
   "cell_type": "code",
   "execution_count": 37,
   "metadata": {},
   "outputs": [
    {
     "name": "stdout",
     "output_type": "stream",
     "text": [
      "X_train:  (177, 3) \n",
      "X_test:  (118, 3) \n",
      "y_train:  (177,) \n",
      "y_test:  (118,)\n"
     ]
    }
   ],
   "source": [
    "# defining the Training and Testing Datasets\n",
    "from sklearn.model_selection import train_test_split\n",
    "\n",
    "X_train, X_test, y_train, y_test = train_test_split(X, y, test_size=0.4, random_state=0)\n",
    "\n",
    "print('X_train: ', X_train.shape, '\\nX_test: ', X_test.shape, '\\ny_train: ', y_train.shape, '\\ny_test: ', y_test.shape)"
   ]
  },
  {
   "cell_type": "markdown",
   "metadata": {},
   "source": [
    "**Creating the models from the dataset**"
   ]
  },
  {
   "cell_type": "markdown",
   "metadata": {},
   "source": [
    "*Defining the Ordinary Least Squares (OLS) model*"
   ]
  },
  {
   "cell_type": "code",
   "execution_count": 38,
   "metadata": {},
   "outputs": [
    {
     "name": "stdout",
     "output_type": "stream",
     "text": [
      "                            OLS Regression Results                            \n",
      "==============================================================================\n",
      "Dep. Variable:            Profits($m)   R-squared:                       0.430\n",
      "Model:                            OLS   Adj. R-squared:                  0.420\n",
      "Method:                 Least Squares   F-statistic:                     43.50\n",
      "Date:                Sun, 14 Jun 2020   Prob (F-statistic):           5.32e-21\n",
      "Time:                        16:28:42   Log-Likelihood:                 237.85\n",
      "No. Observations:                 177   AIC:                            -467.7\n",
      "Df Residuals:                     173   BIC:                            -455.0\n",
      "Df Model:                           3                                         \n",
      "Covariance Type:            nonrobust                                         \n",
      "===================================================================================\n",
      "                      coef    std err          t      P>|t|      [0.025      0.975]\n",
      "-----------------------------------------------------------------------------------\n",
      "const               0.1432      0.005     28.397      0.000       0.133       0.153\n",
      "Organic Traffic     0.2253      0.064      3.512      0.001       0.099       0.352\n",
      "Adwords Traffic     0.3370      0.062      5.464      0.000       0.215       0.459\n",
      "Assets($m)          0.3074      0.062      4.946      0.000       0.185       0.430\n",
      "==============================================================================\n",
      "Omnibus:                      245.201   Durbin-Watson:                   2.007\n",
      "Prob(Omnibus):                  0.000   Jarque-Bera (JB):            28167.214\n",
      "Skew:                           5.569   Prob(JB):                         0.00\n",
      "Kurtosis:                      63.788   Cond. No.                         16.5\n",
      "==============================================================================\n",
      "\n",
      "Warnings:\n",
      "[1] Standard Errors assume that the covariance matrix of the errors is correctly specified.\n"
     ]
    },
    {
     "name": "stderr",
     "output_type": "stream",
     "text": [
      "C:\\ProgramData\\Anaconda3\\lib\\site-packages\\numpy\\core\\fromnumeric.py:2389: FutureWarning: Method .ptp is deprecated and will be removed in a future version. Use numpy.ptp instead.\n",
      "  return ptp(axis=axis, out=out, **kwargs)\n"
     ]
    }
   ],
   "source": [
    "# Ordinary Least Squares\n",
    "import statsmodels.api as sm\n",
    "\n",
    "X_train_ols = sm.add_constant(X_train)\n",
    "ols = sm.OLS(y_train, X_train_ols)\n",
    "ols_model = ols.fit()\n",
    "\n",
    "print(ols_model.summary())"
   ]
  },
  {
   "cell_type": "markdown",
   "metadata": {},
   "source": [
    "*Defining the Linear Regression model*"
   ]
  },
  {
   "cell_type": "code",
   "execution_count": 39,
   "metadata": {},
   "outputs": [
    {
     "name": "stdout",
     "output_type": "stream",
     "text": [
      "RMSE:  0.07457812225892614\n"
     ]
    }
   ],
   "source": [
    "# Linear Regression\n",
    "from sklearn.linear_model import LinearRegression\n",
    "from sklearn import metrics\n",
    "\n",
    "lr_model = LinearRegression()\n",
    "lr_model.fit(X_train, y_train)\n",
    "lr_pred = lr_model.predict(X_test)\n",
    "\n",
    "print(\"RMSE: \", np.sqrt(metrics.mean_squared_error(y_test, lr_pred)))"
   ]
  },
  {
   "cell_type": "markdown",
   "metadata": {},
   "source": [
    "*Defining the Ridge Regression model*"
   ]
  },
  {
   "cell_type": "code",
   "execution_count": 40,
   "metadata": {},
   "outputs": [
    {
     "name": "stdout",
     "output_type": "stream",
     "text": [
      "Best alpha:  1.0\n"
     ]
    }
   ],
   "source": [
    "# Ridge Regression\n",
    "from sklearn import linear_model\n",
    "\n",
    "alphas = [1e-8, 1e-6, 1e-4, 0.01, 0.1, 0.1, 1, 5, 10, 25, 50, 100, 1000, 1e4]\n",
    "\n",
    "ridge_prelim = linear_model.RidgeCV(alphas=alphas, store_cv_values=True)\n",
    "ridge_prelim = ridge_prelim.fit(X_train, y_train)\n",
    "\n",
    "print('Best alpha: ', ridge_prelim.alpha_)"
   ]
  },
  {
   "cell_type": "code",
   "execution_count": 41,
   "metadata": {},
   "outputs": [
    {
     "name": "stdout",
     "output_type": "stream",
     "text": [
      "RMSE:  0.07506401279286484\n"
     ]
    }
   ],
   "source": [
    "ridge_model = linear_model.Ridge(alpha=ridge_prelim.alpha_)\n",
    "ridge_model = ridge_model.fit(X_train, y_train)\n",
    "ridge_pred = ridge_model.predict(X_test)\n",
    "\n",
    "print('RMSE: ', np.sqrt(metrics.mean_squared_error(y_test, ridge_pred)))"
   ]
  },
  {
   "cell_type": "markdown",
   "metadata": {},
   "source": [
    "*Defining the Lasso Regression model*"
   ]
  },
  {
   "cell_type": "code",
   "execution_count": 42,
   "metadata": {},
   "outputs": [
    {
     "name": "stdout",
     "output_type": "stream",
     "text": [
      "Best alpha:  {'alpha': 0.01}\n"
     ]
    },
    {
     "name": "stderr",
     "output_type": "stream",
     "text": [
      "C:\\ProgramData\\Anaconda3\\lib\\site-packages\\sklearn\\model_selection\\_search.py:841: DeprecationWarning: The default of the `iid` parameter will change from True to False in version 0.22 and will be removed in 0.24. This will change numeric results when test-set sizes are unequal.\n",
      "  DeprecationWarning)\n"
     ]
    }
   ],
   "source": [
    "# Lasso Regression\n",
    "from sklearn.model_selection import GridSearchCV\n",
    "from sklearn.linear_model import Lasso\n",
    "\n",
    "lasso_prelim = Lasso()\n",
    "\n",
    "parameters = {'alpha': [1e-8, 1e-6, 1e-4, 0.01, 0.1, 0.1, 1, 5, 10, 25, 50, 100, 1000, 1e4]}\n",
    "\n",
    "lasso_prelim = GridSearchCV(lasso_prelim, parameters, scoring='neg_mean_squared_error', cv=5)\n",
    "lasso_prelim = lasso_prelim.fit(X_train, y_train)\n",
    "\n",
    "print('Best alpha: ', lasso_prelim.best_params_)"
   ]
  },
  {
   "cell_type": "code",
   "execution_count": 43,
   "metadata": {},
   "outputs": [
    {
     "name": "stdout",
     "output_type": "stream",
     "text": [
      "RMSE:  0.08689192248007661\n"
     ]
    }
   ],
   "source": [
    "lasso_model = Lasso(alpha=lasso_prelim.best_params_.get('alpha'))\n",
    "lasso_model.fit(X_train, y_train)\n",
    "lasso_pred = lasso_model.predict(X_test)\n",
    "\n",
    "print('RMSE: ', np.sqrt(metrics.mean_squared_error(y_test, lasso_pred)))"
   ]
  },
  {
   "cell_type": "markdown",
   "metadata": {},
   "source": [
    "### Step 4 - Making Predictions to 'Profits'"
   ]
  },
  {
   "cell_type": "code",
   "execution_count": 44,
   "metadata": {},
   "outputs": [
    {
     "name": "stdout",
     "output_type": "stream",
     "text": [
      "[0.3245912774954929, 0.26524185816619245, 0.15973496602921494]\n"
     ]
    }
   ],
   "source": [
    "y_pred_lr = lr_model.predict(X_predict)\n",
    "y_pred_ridge = ridge_model.predict(X_predict)\n",
    "y_pred_lasso = lasso_model.predict(X_predict)\n",
    "\n",
    "profits_y_pred = [#y_pred_ols, \n",
    "    y_pred_lr[0], y_pred_ridge[0], y_pred_lasso[0]]\n",
    "\n",
    "print(profits_y_pred)"
   ]
  },
  {
   "cell_type": "code",
   "execution_count": 45,
   "metadata": {},
   "outputs": [
    {
     "name": "stdout",
     "output_type": "stream",
     "text": [
      "[12190.589035667617, 8406.351360392764, 1679.0209039548026]\n"
     ]
    }
   ],
   "source": [
    "# Determining the Actual Profits\n",
    "profits_actual_lr = y_pred_lr[0] * (profits_max - profits_min) + profits_min\n",
    "profits_actual_ridge = y_pred_ridge[0] * (profits_max - profits_min) + profits_min\n",
    "profits_actual_lasso = y_pred_lasso[0] * (profits_max - profits_min) + profits_min\n",
    "\n",
    "profits_pred = [#profits_actual_ols, \n",
    "    profits_actual_lr, profits_actual_ridge, profits_actual_lasso]\n",
    "\n",
    "print(profits_pred)"
   ]
  },
  {
   "cell_type": "markdown",
   "metadata": {},
   "source": [
    "## Part 3 - Results Summary"
   ]
  },
  {
   "cell_type": "code",
   "execution_count": 48,
   "metadata": {},
   "outputs": [
    {
     "name": "stdout",
     "output_type": "stream",
     "text": [
      "OUTPUT transformed REVENUE\n",
      "\n",
      "Linear Regression    :  0.23172794497434865\n",
      "Ridge Regression(*)  :  0.16673828765221801\n",
      "Lasso Regression     :  0.04152799712039917\n",
      "\n",
      "OUTPUT actual REVENUE\n",
      "\n",
      "Linear Regression    :  122952.87679853589\n",
      "Ridge Regression(*)  :  89030.55031438997\n",
      "Lasso Regression     :  23675.16101694915\n"
     ]
    }
   ],
   "source": [
    "print('OUTPUT transformed REVENUE\\n')\n",
    "print('Linear Regression    : ', revenue_y_pred[0])\n",
    "print('Ridge Regression(*)  : ', revenue_y_pred[1])\n",
    "print('Lasso Regression     : ', revenue_y_pred[2])\n",
    "print('\\nOUTPUT actual REVENUE\\n')\n",
    "print('Linear Regression    : ', revenue_pred[0])\n",
    "print('Ridge Regression(*)  : ', revenue_pred[1])\n",
    "print('Lasso Regression     : ', revenue_pred[2])"
   ]
  },
  {
   "cell_type": "code",
   "execution_count": 49,
   "metadata": {},
   "outputs": [
    {
     "name": "stdout",
     "output_type": "stream",
     "text": [
      "OUTPUT transformed PROFIT\n",
      "\n",
      "Linear Regression(*) :  0.3245912774954929\n",
      "Ridge Regression     :  0.26524185816619245\n",
      "Lasso Regression     :  0.15973496602921494\n",
      "\n",
      "OUTPUT actual PROFIT\n",
      "\n",
      "Linear Regression(*) :  12190.589035667617\n",
      "Ridge Regression     :  8406.351360392764\n",
      "Lasso Regression     :  1679.0209039548026\n"
     ]
    }
   ],
   "source": [
    "print('OUTPUT transformed PROFIT\\n')\n",
    "print('Linear Regression(*) : ', profits_y_pred[0])\n",
    "print('Ridge Regression     : ', profits_y_pred[1])\n",
    "print('Lasso Regression     : ', profits_y_pred[2])\n",
    "print('\\nOUTPUT actual PROFIT\\n')\n",
    "print('Linear Regression(*) : ', profits_pred[0])\n",
    "print('Ridge Regression     : ', profits_pred[1])\n",
    "print('Lasso Regression     : ', profits_pred[2])"
   ]
  },
  {
   "cell_type": "code",
   "execution_count": 51,
   "metadata": {},
   "outputs": [
    {
     "name": "stdout",
     "output_type": "stream",
     "text": [
      "FINAL RESULTS\n",
      "Revenue Forecasted (from Ridge Model) :  89030.55031438997\n",
      "Provit Forecasted (from OLS Model)    :  12190.589035667617\n"
     ]
    }
   ],
   "source": [
    "print('FINAL RESULTS')\n",
    "print('Revenue Forecasted (from Ridge Model) : ', revenue_pred[1])\n",
    "print('Provit Forecasted (from OLS Model)    : ', profits_pred[0])"
   ]
  },
  {
   "cell_type": "code",
   "execution_count": null,
   "metadata": {},
   "outputs": [],
   "source": []
  }
 ],
 "metadata": {
  "kernelspec": {
   "display_name": "Python 3",
   "language": "python",
   "name": "python3"
  },
  "language_info": {
   "codemirror_mode": {
    "name": "ipython",
    "version": 3
   },
   "file_extension": ".py",
   "mimetype": "text/x-python",
   "name": "python",
   "nbconvert_exporter": "python",
   "pygments_lexer": "ipython3",
   "version": "3.7.3"
  }
 },
 "nbformat": 4,
 "nbformat_minor": 2
}
